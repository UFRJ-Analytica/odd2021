{
 "cells": [
  {
   "cell_type": "markdown",
   "id": "dominant-washington",
   "metadata": {},
   "source": [
    "# Importando Ferramentas"
   ]
  },
  {
   "cell_type": "code",
   "execution_count": null,
   "id": "announced-september",
   "metadata": {
    "colab": {
     "base_uri": "https://localhost:8080/"
    },
    "id": "revolutionary-province",
    "outputId": "354f02d7-8ad2-4528-f16b-f80c33a114b0"
   },
   "outputs": [],
   "source": [
    "# Instalando API da Base dos Dados\n",
    "# !pip install basedosdados\n",
    "\n",
    "# Importando Ferramentas Básicas\n",
    "import json\n",
    "\n",
    "import pandas as pd\n",
    "import seaborn as sns\n",
    "import matplotlib.pyplot as plt\n",
    "import basedosdados as bd\n",
    "from ipywidgets import interact\n",
    "\n",
    "from Utils.data_utils import get_data"
   ]
  },
  {
   "source": [
    "# Importando Dados"
   ],
   "cell_type": "code",
   "metadata": {},
   "execution_count": null,
   "outputs": []
  },
  {
   "cell_type": "code",
   "execution_count": null,
   "id": "hairy-rubber",
   "metadata": {
    "colab": {
     "base_uri": "https://localhost:8080/"
    },
    "id": "enabling-glossary",
    "outputId": "b30b3150-a712-4496-f1ed-d90e0c33bde2",
    "scrolled": true
   },
   "outputs": [],
   "source": [
    "# Visualizando informações dos dados\n",
    "bd.list_datasets()"
   ]
  },
  {
   "cell_type": "code",
   "execution_count": null,
   "id": "traditional-namibia",
   "metadata": {
    "colab": {
     "base_uri": "https://localhost:8080/"
    },
    "id": "decreased-audit",
    "outputId": "fcd31b06-5cfb-4174-98b0-0418e68218fd"
   },
   "outputs": [],
   "source": [
    "# Lendo os dados\n",
    "idh_municipios = get_data(\"mundo_onu_adh.municipios\")"
   ]
  },
  {
   "cell_type": "code",
   "execution_count": null,
   "id": "rocky-witch",
   "metadata": {
    "colab": {
     "base_uri": "https://localhost:8080/",
     "height": 247
    },
    "id": "20SAg-eZa_hg",
    "outputId": "68c068cb-fdb7-4805-f963-2a51ecacf6cd"
   },
   "outputs": [],
   "source": [
    "# Visualizando a tabela de IDH dos Municípios\n",
    "idh_municipios.head(5)"
   ]
  },
  {
   "cell_type": "code",
   "execution_count": null,
   "id": "played-gibraltar",
   "metadata": {
    "colab": {
     "base_uri": "https://localhost:8080/"
    },
    "id": "3_fziBvVcIXx",
    "outputId": "222e65cb-af6e-4ff8-dd84-93803d71948e"
   },
   "outputs": [],
   "source": [
    "df_idh_municipios = idh_municipios[[\"id_municipio\", \"ano\", \"idhm\", \"idhm_e\", \"idhm_l\", \"idhm_r\"]]#.drop_duplicates(subset=[\"id_municipio\"])"
   ]
  },
  {
   "cell_type": "code",
   "execution_count": null,
   "id": "fluid-policy",
   "metadata": {
    "colab": {
     "base_uri": "https://localhost:8080/",
     "height": 198
    },
    "id": "3IslbjV9c3yT",
    "outputId": "14e0e4ee-e405-466f-e4ee-8fef852ebe03"
   },
   "outputs": [],
   "source": [
    "df_idh_municipios.head(5)"
   ]
  },
  {
   "cell_type": "markdown",
   "id": "dying-irrigation",
   "metadata": {
    "id": "t6TkYJ3-JwxD"
   },
   "source": [
    "**Dicionário de Dados**\n",
    "\n",
    "<br>\n",
    "\n",
    "- idhm    :  `Municipal`\n",
    "- idhm_e  :  `Educação`\n",
    "- idhm_l  :  `Longevidade`\n",
    "- idhm_r  :  `Renda` "
   ]
  },
  {
   "cell_type": "code",
   "execution_count": null,
   "id": "deluxe-defensive",
   "metadata": {
    "colab": {
     "base_uri": "https://localhost:8080/"
    },
    "id": "2PfwiJLogm36",
    "outputId": "d1532c7c-568d-4f37-8921-3a7512782a37"
   },
   "outputs": [],
   "source": [
    "info_municipios = get_data(\"br_bd_diretorios_brasil.municipio\")\n",
    "df_info_municipios = info_municipios[[\"id_municipio\", \"municipio\", \"capital_uf\", \"uf\", \"regiao\", \"microrregiao\", \"mesorregiao\"]]#.drop_duplicates(subset=[\"id_municipio\"])"
   ]
  },
  {
   "cell_type": "code",
   "execution_count": null,
   "id": "alternative-aquatic",
   "metadata": {
    "id": "6h5cSXFuUQgV"
   },
   "outputs": [],
   "source": [
    "# Juntando as duas tabelas com base no ID municipal\n",
    "df_total_municipios = df_idh_municipios.merge(df_info_municipios, left_on=\"id_municipio\", right_on=\"id_municipio\")"
   ]
  },
  {
   "cell_type": "code",
   "execution_count": null,
   "id": "first-revolution",
   "metadata": {
    "colab": {
     "base_uri": "https://localhost:8080/",
     "height": 198
    },
    "id": "eFc1cSa3VWg0",
    "outputId": "8359f2fa-b870-4d94-c498-694f4cccd72e"
   },
   "outputs": [],
   "source": [
    "# Visualizando a tabela\n",
    "df_total_municipios.head(5)"
   ]
  },
  {
   "cell_type": "markdown",
   "id": "employed-ratio",
   "metadata": {},
   "source": [
    "# Análise Exploratória de Dados"
   ]
  },
  {
   "cell_type": "code",
   "execution_count": null,
   "id": "aggressive-charlotte",
   "metadata": {
    "id": "e5FgjJEGKdEJ"
   },
   "outputs": [],
   "source": [
    "anos = [1991, 2000, 2010]\n",
    "\n",
    "lista_medias_municipio = [df_idh_municipios.loc[df_idh_municipios[\"ano\"]==ano, \"idhm\"].mean()\\\n",
    "                for ano in anos]\n",
    "\n",
    "lista_medias_municipio_e = [df_idh_municipios.loc[df_idh_municipios[\"ano\"]==ano, \"idhm_e\"].mean()\\\n",
    "                for ano in anos]\n",
    "\n",
    "lista_medias_municipio_l = [df_idh_municipios.loc[df_idh_municipios[\"ano\"]==ano, \"idhm_l\"].mean()\\\n",
    "                for ano in anos]\n",
    "\n",
    "lista_medias_municipio_r = [df_idh_municipios.loc[df_idh_municipios[\"ano\"]==ano, \"idhm_r\"].mean()\\\n",
    "                for ano in anos]\n"
   ]
  },
  {
   "cell_type": "code",
   "execution_count": null,
   "id": "cultural-technique",
   "metadata": {
    "colab": {
     "base_uri": "https://localhost:8080/",
     "height": 639
    },
    "id": "T9UndNJ8LtjY",
    "outputId": "f368da7e-0e76-419e-8d44-5480431db7ed"
   },
   "outputs": [],
   "source": [
    "fig, (ax0) = plt.subplots(nrows = 1,\n",
    "                            ncols = 1,\n",
    "                            figsize = (15,10),\n",
    "                             sharex = True)\n",
    "\n",
    "scatter = ax0.plot(anos, \n",
    "                   lista_medias_municipio, \n",
    "                   marker='o', \n",
    "                   label='Média')\n",
    "\n",
    "\n",
    "scatter = ax0.plot(anos,lista_medias_municipio_e, \n",
    "                   c = 'red', \n",
    "                   marker='o', \n",
    "                   label='Educação')\n",
    "\n",
    "scatter = ax0.plot(anos, \n",
    "                   lista_medias_municipio_l,\n",
    "                   c = 'green', \n",
    "                   marker='o', \n",
    "                   label='Longevidade')\n",
    "\n",
    "scatter = ax0.plot(anos, \n",
    "                   lista_medias_municipio_r, \n",
    "                   c = 'black', \n",
    "                   marker='o', \n",
    "                   label='Renda')\n",
    "\n",
    "ax0.set(title = 'Evolução dos indicadores',\n",
    "        xlabel = 'Média anual',\n",
    "       ylabel = 'Ano')\n",
    "\n",
    "ax0.legend(bbox_to_anchor = (1.04,1))\n"
   ]
  },
  {
   "cell_type": "code",
   "execution_count": null,
   "id": "adjustable-education",
   "metadata": {
    "colab": {
     "base_uri": "https://localhost:8080/",
     "height": 475
    },
    "id": "BmNF-vrsgWc8",
    "outputId": "fcdd02a9-9f60-4a3f-e2ae-d807617da7ee"
   },
   "outputs": [],
   "source": [
    "sns.set_theme(style=\"darkgrid\")\n",
    "\n",
    "fig, ax = plt.subplots(figsize = (15,7.5))\n",
    "\n",
    "ax = sns.kdeplot(data = df_total_municipios.loc[df_total_municipios[\"ano\"]==2010], \n",
    "                  x= \"idhm\",\n",
    "                  hue = 'regiao',\n",
    "                  palette = \"tab10\",\n",
    "                  fill = True, \n",
    "                  common_norm = False, \n",
    "                  alpha = .5, \n",
    "                  linewidth = 1.5)\n",
    "\n"
   ]
  },
  {
   "cell_type": "code",
   "execution_count": null,
   "id": "detected-novelty",
   "metadata": {
    "colab": {
     "base_uri": "https://localhost:8080/",
     "height": 525,
     "referenced_widgets": [
      "6a0a6b54af324faf9a24a08b68c75538",
      "f14d3c7c40684b62bb1cb8f3c7dc27fd",
      "3a04ecc1447240b39f5fdf0bd59e8b51",
      "59ba44c39579461abd0fa4e8804315eb",
      "846788471b8649c3b11557cc8e230e37",
      "91c356e9cd8f40419099042e075e7f84",
      "be5579bc04494f5185958875cd805754"
     ]
    },
    "id": "3w6AuQGkUqiI",
    "outputId": "5657df67-79cc-4fae-83a5-61eb07745e5b"
   },
   "outputs": [],
   "source": [
    "# Fixar escala\n",
    "\n",
    "def f(ano):\n",
    "  \n",
    "    sns.set_theme(style=\"darkgrid\")\n",
    "\n",
    "    fig, ax = plt.subplots(figsize = (15,7.5))\n",
    "\n",
    "    ax = sns.kdeplot(data = df_total_municipios.loc[df_total_municipios[\"ano\"]==ano], \n",
    "                    x= \"idhm\",\n",
    "                    hue = 'regiao',\n",
    "                    palette = \"tab10\",\n",
    "                    fill = True, \n",
    "                    common_norm = False, \n",
    "                    alpha = .5, \n",
    "                    linewidth = 1.5)\n",
    "\n",
    "    plt.show()\n",
    "    \n",
    "interact(f, ano = [1991,2000,2010])"
   ]
  },
  {
   "cell_type": "code",
   "execution_count": null,
   "id": "recent-standing",
   "metadata": {
    "id": "BAQfMcc3Uqz2",
    "scrolled": false
   },
   "outputs": [],
   "source": [
    "def Graf_Interativo_Ano_Regiao(Ano):\n",
    "    \n",
    "    sns.set_theme(style=\"darkgrid\")\n",
    "\n",
    "    fig, (ax0, ax1, ax2, ax3) = plt.subplots( ncols = 1,\n",
    "                                              nrows = 4,\n",
    "                                              figsize = (15,22),\n",
    "                                              sharex = True)\n",
    "\n",
    "    ax0 = sns.kdeplot(  data = df_total_municipios.loc[df_total_municipios[\"ano\"] == Ano], \n",
    "                        x = \"idhm\",\n",
    "                        hue = 'regiao',\n",
    "                        palette = \"rocket\",\n",
    "                        fill = True, \n",
    "                        common_norm = False, \n",
    "                        alpha = .5, \n",
    "                        linewidth = 1.5,\n",
    "                        ax = ax0)\n",
    "    \n",
    "    ax0.set_title('IDH Total',\n",
    "                   fontsize = 18,\n",
    "                   y = 1.03)\n",
    "    \n",
    "    ax1 = sns.kdeplot(  data = df_total_municipios.loc[df_total_municipios[\"ano\"] == Ano], \n",
    "                        x = \"idhm_e\",\n",
    "                        hue = 'regiao',\n",
    "                        palette = \"rocket\",\n",
    "                        fill = True, \n",
    "                        common_norm = False, \n",
    "                        alpha = .5, \n",
    "                        linewidth = 1.5,\n",
    "                        ax = ax1)\n",
    "    \n",
    "    ax1.set_title('IDH Escolar',\n",
    "                   fontsize = 18,\n",
    "                   y = 1.03)\n",
    "    \n",
    "    ax2 = sns.kdeplot(  data = df_total_municipios.loc[df_total_municipios[\"ano\"] == Ano], \n",
    "                        x = \"idhm_l\",\n",
    "                        hue = 'regiao',\n",
    "                        palette = \"rocket\",\n",
    "                        fill = True, \n",
    "                        common_norm = False, \n",
    "                        alpha = .5, \n",
    "                        linewidth = 1.5,\n",
    "                        ax = ax2)\n",
    "    \n",
    "    ax2.set_title('IDH Longevidade',\n",
    "                   fontsize = 18,\n",
    "                   y = 1.03)\n",
    "    \n",
    "    ax3 = sns.kdeplot(  data = df_total_municipios.loc[df_total_municipios[\"ano\"] == Ano], \n",
    "                        x = \"idhm_r\",\n",
    "                        hue = 'regiao',\n",
    "                        palette = \"rocket\",\n",
    "                        fill = True, \n",
    "                        common_norm = False, \n",
    "                        alpha = .5, \n",
    "                        linewidth = 1.5,\n",
    "                        ax = ax3)\n",
    "    \n",
    "    ax3.set_title('IDH Renda',\n",
    "                   fontsize = 18,\n",
    "                   y = 1.03)\n",
    "    \n",
    "\n",
    "    fig.suptitle('Distribuição de IDH Municipal', \n",
    "                 fontsize = 25, \n",
    "                 fontweight = 'bold', \n",
    "                 y = 0.92)\n",
    "    \n",
    "    ax1.legend_ = None\n",
    "    ax2.legend_ = None\n",
    "    ax3.legend_ = None\n",
    "    \n",
    "    ax0.legend(labels = ['Norte', 'Nordeste', 'Sudeste', 'Sul', 'Centro-Oeste'],\n",
    "               title=\"Região\",\n",
    "               loc= 0, \n",
    "               fontsize='medium', \n",
    "               fancybox= True,\n",
    "               bbox_to_anchor=(0.5, 0.8, 0.5, 0.5),\n",
    "               edgecolor  = '#FFFFFF',\n",
    "               title_fontsize = 'large')\n",
    "    \n",
    "    ax0.set_ylabel('Densidade', fontsize = 15, y = 0.5)\n",
    "    ax1.set_ylabel('Densidade', fontsize = 15, y = 0.5)\n",
    "    ax2.set_ylabel('Densidade', fontsize = 15, y = 0.5)\n",
    "    ax3.set_ylabel('Densidade', fontsize = 15, y = 0.5)\n",
    "    \n",
    "    plt.xlabel('IDH', fontsize = 20, x = 0.5)\n",
    "\n",
    "    plt.show();\n",
    "\n",
    "interact(Graf_Interativo_Ano_Regiao, Ano = [1991,2000, 2010])"
   ]
  },
  {
   "cell_type": "code",
   "execution_count": null,
   "id": "afraid-variance",
   "metadata": {},
   "outputs": [],
   "source": [
    "def Graf_Interativo_Meso(UF):\n",
    "    \n",
    "    sns.set_theme(style=\"darkgrid\")\n",
    "    \n",
    "    fig, ax = plt.subplots(figsize = (15,7.5))\n",
    "    \n",
    "    ax = sns.kdeplot(data = df_total_municipios.loc[df_total_municipios['uf'] == UF], \n",
    "                     x = \"idhm\",\n",
    "                     hue = 'mesorregiao',\n",
    "                     palette = \"rocket\",\n",
    "                     fill = True, \n",
    "                     common_norm = False, \n",
    "                     alpha = .5, \n",
    "                     linewidth = 1.5)\n",
    "    \n",
    "    ax.legend(labels = df_total_municipios.mesorregiao.loc[df_total_municipios['uf'] == UF].unique(),\n",
    "               title=\"Mesorregião\",\n",
    "               loc= 0, \n",
    "               fontsize='medium', \n",
    "               fancybox= True,\n",
    "               bbox_to_anchor=(0.5, 0.6, 0.5, 0.5),\n",
    "               edgecolor  = '#FFFFFF',\n",
    "               title_fontsize = 'x-large')\n",
    "    \n",
    "    ax.set_xlabel('IDH', \n",
    "                  fontsize = 15, \n",
    "                  y = 0.5,\n",
    "                  fontweight = 'bold')\n",
    "    \n",
    "    ax.set_ylabel('Densidade', \n",
    "                  fontsize = 15, \n",
    "                  y = 0.5,\n",
    "                  fontweight = 'bold')\n",
    "    \n",
    "    fig.suptitle('IDH das Mesorregiões', \n",
    "                 fontsize = 20, \n",
    "                 fontweight = 'bold',\n",
    "                 y = 0.94)\n",
    "        \n",
    "    plt.show(); \n",
    "    \n",
    "interact(Graf_Interativo_Meso,\n",
    "         UF = df_total_municipios.uf.unique())"
   ]
  },
  {
   "cell_type": "code",
   "execution_count": null,
   "id": "structured-lawrence",
   "metadata": {},
   "outputs": [],
   "source": []
  },
  {
   "cell_type": "code",
   "execution_count": null,
   "id": "seven-fraud",
   "metadata": {},
   "outputs": [],
   "source": [
    "despesas_educação = \\\n",
    "['Educação',\n",
    "'Ensino Fundamental',\n",
    "'Atenção Básica',\n",
    "'Assistência à Criança e ao Adolescente',\n",
    "'Educação Infantil',\n",
    "'Educação de Jovens e Adultos',\n",
    "'Educação Especial',\n",
    "'Cultura',\n",
    "'\"Patrimônio Histórico, Artístico e Arqueológico\"',\n",
    "'Difusão Cultural',\n",
    "'Ensino Superior',\n",
    "'Ensino Médio',\n",
    "'Ensino Profissional',\n",
    "'Educação Básica',\n",
    "'Ciência e Tecnologia',\n",
    "'Desenvolvimento Tecnológico e Engenharia',\n",
    "'Demais Subfunções Ciência e Tecnologia',\n",
    "'Demais Subfunções Cultura']"
   ]
  },
  {
   "cell_type": "code",
   "execution_count": null,
   "id": "proprietary-pizza",
   "metadata": {},
   "outputs": [],
   "source": [
    "despesas_educação"
   ]
  },
  {
   "cell_type": "code",
   "execution_count": null,
   "id": "covered-zoning",
   "metadata": {},
   "outputs": [],
   "source": [
    "# df_despesas_full = get_data(\"br_tesouro_finbra.despesas_por_funcao\")\n",
    "# df_despesas = df_despesas_full[[\"id_municipio\", \"sigla_uf\", \"ano\", \"coluna\", \"conta\", \"valor\"]].loc[(df_despesas_full[\"coluna\"] == \"Despesas Pagas\") & (df_despesas_full[\"conta\"].isin(despesas_educação))]"
   ]
  },
  {
   "cell_type": "code",
   "execution_count": null,
   "id": "intended-expansion",
   "metadata": {},
   "outputs": [],
   "source": [
    "query_despesas = \\\n",
    "\"\"\"\n",
    "SELECT  id_municipio, sigla_uf, ano, coluna, conta, valor\n",
    "FROM `basedosdados.br_tesouro_finbra.despesas_por_funcao` \n",
    "WHERE coluna='Despesas Pagas' AND conta IN \n",
    "('Educação',\n",
    "'Ensino Fundamental',\n",
    "'Atenção Básica',\n",
    "'Assistência à Criança e ao Adolescente',\n",
    "'Educação Infantil',\n",
    "'Educação de Jovens e Adultos',\n",
    "'Educação Especial',\n",
    "'Cultura',\n",
    "'\"Patrimônio Histórico, Artístico e Arqueológico\"',\n",
    "'Difusão Cultural',\n",
    "'Ensino Superior',\n",
    "'Ensino Médio',\n",
    "'Ensino Profissional',\n",
    "'Educação Básica',\n",
    "'Ciência e Tecnologia',\n",
    "'Desenvolvimento Tecnológico e Engenharia',\n",
    "'Demais Subfunções Ciência e Tecnologia',\n",
    "'Demais Subfunções Cultura');\n",
    "\"\"\"\n",
    "\n",
    "df_despesas = get_data(\"br_tesouro_finbra.despesas_por_funcao.educacao\", query = query_despesas)"
   ]
  },
  {
   "cell_type": "code",
   "execution_count": null,
   "id": "premier-communication",
   "metadata": {},
   "outputs": [],
   "source": [
    "#SELECT DISTINCT conta FROM `basedosdados.br_tesouro_finbra.despesas_por_funcao`;\n",
    "\n",
    "#SELECT DISTINCT coluna FROM `basedosdados.br_tesouro_finbra.despesas_por_funcao`;\n",
    "\n",
    "#SELECT * FROM `basedosdados.br_tesouro_finbra.despesas_por_funcao` WHERE coluna='Despesas Liquidadas' LIMIT 100;\n",
    "\n",
    "#SELECT id_municipio, populacao, conta, valor FROM `basedosdados.br_tesouro_finbra.despesas_por_funcao`;\n",
    "\n",
    "#SELECT  id_municipio, sigla_uf, ano, coluna, conta, valor  FROM `basedosdados.br_tesouro_finbra.despesas_por_funcao` WHERE coluna='Despesas Empenhadas';"
   ]
  },
  {
   "cell_type": "code",
   "execution_count": null,
   "id": "defensive-puzzle",
   "metadata": {},
   "outputs": [],
   "source": [
    "df_despesas"
   ]
  },
  {
   "cell_type": "code",
   "execution_count": null,
   "id": "taken-logistics",
   "metadata": {
    "colab": {
     "base_uri": "https://localhost:8080/"
    },
    "id": "mcqTOG9vgHVY",
    "outputId": "4225fe65-0bdd-411d-ce23-a9eb31b11543"
   },
   "outputs": [],
   "source": [
    "# from google.colab import drive\n",
    "# drive.mount('/content/drive')"
   ]
  },
  {
   "cell_type": "markdown",
   "id": "protecting-journalist",
   "metadata": {
    "id": "pK2uESj-egiv"
   },
   "source": [
    "# Testes"
   ]
  },
  {
   "cell_type": "code",
   "execution_count": null,
   "id": "promising-relations",
   "metadata": {
    "id": "unable-hacker",
    "outputId": "f2e6422a-de6d-454c-e644-07a6798fb3ed",
    "scrolled": true
   },
   "outputs": [],
   "source": [
    "despesas_orcamentarias = get_data(\"br_tesouro_finbra.despesas_orcamentarias\")"
   ]
  },
  {
   "cell_type": "code",
   "execution_count": null,
   "id": "japanese-prospect",
   "metadata": {
    "id": "canadian-emerald",
    "outputId": "2192ec02-9556-431c-f51c-e85d5363ad68",
    "scrolled": true
   },
   "outputs": [],
   "source": [
    "despesas_orcamentarias.head(5)"
   ]
  },
  {
   "cell_type": "markdown",
   "id": "rolled-turtle",
   "metadata": {
    "id": "recreational-wright"
   },
   "source": [
    "# Descrição dos dados\n",
    "\n",
    "- **Despesa Empenhada**: Valor do orçamento público formalmente reservado (pela emissão do empenho) para compromissos assumidos com terceiros.\n",
    "\t\n",
    "- **Despesa Liquidada**: É a verificação do direito adquirido pelo credor de receber o pagamento. É o segundo estágio da execução da despesa, precedido do empenho e antecedido do pagamento."
   ]
  },
  {
   "cell_type": "code",
   "execution_count": null,
   "id": "electric-greensboro",
   "metadata": {
    "id": "infectious-alarm"
   },
   "outputs": [],
   "source": [
    "# despesas_orcamentarias.to_csv('./Dados/despesas_orcamentarias.csv',sep=';',index=False)"
   ]
  },
  {
   "cell_type": "code",
   "execution_count": null,
   "id": "important-print",
   "metadata": {
    "id": "electric-knife",
    "outputId": "6cff9ff6-b7f7-4d57-c88c-3dd1f3bc9779"
   },
   "outputs": [],
   "source": [
    "despesas_orcamentarias.shape"
   ]
  },
  {
   "cell_type": "code",
   "execution_count": null,
   "id": "decreased-spyware",
   "metadata": {
    "id": "unlimited-stone",
    "outputId": "ef33b1c3-00b1-4aa2-f21c-fd7ceb0b9613"
   },
   "outputs": [],
   "source": [
    "despesas_orcamentarias[\"conta\"].value_counts().keys()[:50]"
   ]
  },
  {
   "cell_type": "code",
   "execution_count": null,
   "id": "dominant-feedback",
   "metadata": {
    "id": "auburn-antarctica",
    "outputId": "0b8308a8-1993-46b1-ec88-8beb2e96e7d7"
   },
   "outputs": [],
   "source": [
    "despesas_orcamentarias[\"coluna\"].value_counts()"
   ]
  }
 ],
 "metadata": {
  "colab": {
   "collapsed_sections": [],
   "name": "analise_exploratoria.ipynb",
   "provenance": [],
   "toc_visible": true
  },
  "kernelspec": {
   "display_name": "Python 3",
   "language": "python",
   "name": "python3"
  },
  "language_info": {
   "codemirror_mode": {
    "name": "ipython",
    "version": 3
   },
   "file_extension": ".py",
   "mimetype": "text/x-python",
   "name": "python",
   "nbconvert_exporter": "python",
   "pygments_lexer": "ipython3",
   "version": "3.9.1-final"
  },
  "widgets": {
   "application/vnd.jupyter.widget-state+json": {
    "3a04ecc1447240b39f5fdf0bd59e8b51": {
     "model_module": "@jupyter-widgets/controls",
     "model_name": "DropdownModel",
     "state": {
      "_dom_classes": [],
      "_model_module": "@jupyter-widgets/controls",
      "_model_module_version": "1.5.0",
      "_model_name": "DropdownModel",
      "_options_labels": [
       "1991",
       "2000",
       "2010"
      ],
      "_view_count": null,
      "_view_module": "@jupyter-widgets/controls",
      "_view_module_version": "1.5.0",
      "_view_name": "DropdownView",
      "description": "ano",
      "description_tooltip": null,
      "disabled": false,
      "index": 0,
      "layout": "IPY_MODEL_91c356e9cd8f40419099042e075e7f84",
      "style": "IPY_MODEL_846788471b8649c3b11557cc8e230e37"
     }
    },
    "59ba44c39579461abd0fa4e8804315eb": {
     "model_module": "@jupyter-widgets/output",
     "model_name": "OutputModel",
     "state": {
      "_dom_classes": [],
      "_model_module": "@jupyter-widgets/output",
      "_model_module_version": "1.0.0",
      "_model_name": "OutputModel",
      "_view_count": null,
      "_view_module": "@jupyter-widgets/output",
      "_view_module_version": "1.0.0",
      "_view_name": "OutputView",
      "layout": "IPY_MODEL_be5579bc04494f5185958875cd805754",
      "msg_id": "",
      "outputs": [
       {
        "image/png": "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\n",
        "metadata": {
         "tags": []
        },
        "output_type": "display_data",
        "text/plain": "<Figure size 1080x540 with 1 Axes>"
       }
      ]
     }
    },
    "6a0a6b54af324faf9a24a08b68c75538": {
     "model_module": "@jupyter-widgets/controls",
     "model_name": "VBoxModel",
     "state": {
      "_dom_classes": [
       "widget-interact"
      ],
      "_model_module": "@jupyter-widgets/controls",
      "_model_module_version": "1.5.0",
      "_model_name": "VBoxModel",
      "_view_count": null,
      "_view_module": "@jupyter-widgets/controls",
      "_view_module_version": "1.5.0",
      "_view_name": "VBoxView",
      "box_style": "",
      "children": [
       "IPY_MODEL_3a04ecc1447240b39f5fdf0bd59e8b51",
       "IPY_MODEL_59ba44c39579461abd0fa4e8804315eb"
      ],
      "layout": "IPY_MODEL_f14d3c7c40684b62bb1cb8f3c7dc27fd"
     }
    },
    "846788471b8649c3b11557cc8e230e37": {
     "model_module": "@jupyter-widgets/controls",
     "model_name": "DescriptionStyleModel",
     "state": {
      "_model_module": "@jupyter-widgets/controls",
      "_model_module_version": "1.5.0",
      "_model_name": "DescriptionStyleModel",
      "_view_count": null,
      "_view_module": "@jupyter-widgets/base",
      "_view_module_version": "1.2.0",
      "_view_name": "StyleView",
      "description_width": ""
     }
    },
    "91c356e9cd8f40419099042e075e7f84": {
     "model_module": "@jupyter-widgets/base",
     "model_name": "LayoutModel",
     "state": {
      "_model_module": "@jupyter-widgets/base",
      "_model_module_version": "1.2.0",
      "_model_name": "LayoutModel",
      "_view_count": null,
      "_view_module": "@jupyter-widgets/base",
      "_view_module_version": "1.2.0",
      "_view_name": "LayoutView",
      "align_content": null,
      "align_items": null,
      "align_self": null,
      "border": null,
      "bottom": null,
      "display": null,
      "flex": null,
      "flex_flow": null,
      "grid_area": null,
      "grid_auto_columns": null,
      "grid_auto_flow": null,
      "grid_auto_rows": null,
      "grid_column": null,
      "grid_gap": null,
      "grid_row": null,
      "grid_template_areas": null,
      "grid_template_columns": null,
      "grid_template_rows": null,
      "height": null,
      "justify_content": null,
      "justify_items": null,
      "left": null,
      "margin": null,
      "max_height": null,
      "max_width": null,
      "min_height": null,
      "min_width": null,
      "object_fit": null,
      "object_position": null,
      "order": null,
      "overflow": null,
      "overflow_x": null,
      "overflow_y": null,
      "padding": null,
      "right": null,
      "top": null,
      "visibility": null,
      "width": null
     }
    },
    "be5579bc04494f5185958875cd805754": {
     "model_module": "@jupyter-widgets/base",
     "model_name": "LayoutModel",
     "state": {
      "_model_module": "@jupyter-widgets/base",
      "_model_module_version": "1.2.0",
      "_model_name": "LayoutModel",
      "_view_count": null,
      "_view_module": "@jupyter-widgets/base",
      "_view_module_version": "1.2.0",
      "_view_name": "LayoutView",
      "align_content": null,
      "align_items": null,
      "align_self": null,
      "border": null,
      "bottom": null,
      "display": null,
      "flex": null,
      "flex_flow": null,
      "grid_area": null,
      "grid_auto_columns": null,
      "grid_auto_flow": null,
      "grid_auto_rows": null,
      "grid_column": null,
      "grid_gap": null,
      "grid_row": null,
      "grid_template_areas": null,
      "grid_template_columns": null,
      "grid_template_rows": null,
      "height": null,
      "justify_content": null,
      "justify_items": null,
      "left": null,
      "margin": null,
      "max_height": null,
      "max_width": null,
      "min_height": null,
      "min_width": null,
      "object_fit": null,
      "object_position": null,
      "order": null,
      "overflow": null,
      "overflow_x": null,
      "overflow_y": null,
      "padding": null,
      "right": null,
      "top": null,
      "visibility": null,
      "width": null
     }
    },
    "f14d3c7c40684b62bb1cb8f3c7dc27fd": {
     "model_module": "@jupyter-widgets/base",
     "model_name": "LayoutModel",
     "state": {
      "_model_module": "@jupyter-widgets/base",
      "_model_module_version": "1.2.0",
      "_model_name": "LayoutModel",
      "_view_count": null,
      "_view_module": "@jupyter-widgets/base",
      "_view_module_version": "1.2.0",
      "_view_name": "LayoutView",
      "align_content": null,
      "align_items": null,
      "align_self": null,
      "border": null,
      "bottom": null,
      "display": null,
      "flex": null,
      "flex_flow": null,
      "grid_area": null,
      "grid_auto_columns": null,
      "grid_auto_flow": null,
      "grid_auto_rows": null,
      "grid_column": null,
      "grid_gap": null,
      "grid_row": null,
      "grid_template_areas": null,
      "grid_template_columns": null,
      "grid_template_rows": null,
      "height": null,
      "justify_content": null,
      "justify_items": null,
      "left": null,
      "margin": null,
      "max_height": null,
      "max_width": null,
      "min_height": null,
      "min_width": null,
      "object_fit": null,
      "object_position": null,
      "order": null,
      "overflow": null,
      "overflow_x": null,
      "overflow_y": null,
      "padding": null,
      "right": null,
      "top": null,
      "visibility": null,
      "width": null
     }
    }
   }
  }
 },
 "nbformat": 4,
 "nbformat_minor": 5
}