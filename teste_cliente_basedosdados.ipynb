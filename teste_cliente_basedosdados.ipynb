{
 "cells": [
  {
   "cell_type": "code",
   "execution_count": 1,
   "id": "revolutionary-province",
   "metadata": {},
   "outputs": [],
   "source": [
    "import basedosdados as bd\n",
    "import pandas as pd"
   ]
  },
  {
   "cell_type": "code",
   "execution_count": 4,
   "id": "enabling-glossary",
   "metadata": {},
   "outputs": [
    {
     "name": "stdout",
     "output_type": "stream",
     "text": [
      "\n",
      "dataset_id: \n",
      "\tbr_ibge_nomes_brasil \n",
      "-----------------------------------------------------------------------------------------------\n",
      "\n"
     ]
    }
   ],
   "source": [
    "bd.list_datasets(filter_by='nomes')"
   ]
  },
  {
   "cell_type": "code",
   "execution_count": 8,
   "id": "unable-hacker",
   "metadata": {},
   "outputs": [
    {
     "name": "stderr",
     "output_type": "stream",
     "text": [
      "Downloading: 100%|████████████████████████████████████████████████████████| 163248/163248 [00:05<00:00, 30229.89rows/s]\n"
     ]
    },
    {
     "data": {
      "text/html": [
       "<div>\n",
       "<style scoped>\n",
       "    .dataframe tbody tr th:only-of-type {\n",
       "        vertical-align: middle;\n",
       "    }\n",
       "\n",
       "    .dataframe tbody tr th {\n",
       "        vertical-align: top;\n",
       "    }\n",
       "\n",
       "    .dataframe thead th {\n",
       "        text-align: right;\n",
       "    }\n",
       "</style>\n",
       "<table border=\"1\" class=\"dataframe\">\n",
       "  <thead>\n",
       "    <tr style=\"text-align: right;\">\n",
       "      <th></th>\n",
       "      <th>id_municipio</th>\n",
       "      <th>ano</th>\n",
       "      <th>populacao</th>\n",
       "    </tr>\n",
       "  </thead>\n",
       "  <tbody>\n",
       "    <tr>\n",
       "      <th>0</th>\n",
       "      <td>1100015</td>\n",
       "      <td>1991</td>\n",
       "      <td>31981.0</td>\n",
       "    </tr>\n",
       "    <tr>\n",
       "      <th>1</th>\n",
       "      <td>1100015</td>\n",
       "      <td>1992</td>\n",
       "      <td>34768.0</td>\n",
       "    </tr>\n",
       "    <tr>\n",
       "      <th>2</th>\n",
       "      <td>1100015</td>\n",
       "      <td>1993</td>\n",
       "      <td>37036.0</td>\n",
       "    </tr>\n",
       "    <tr>\n",
       "      <th>3</th>\n",
       "      <td>1100015</td>\n",
       "      <td>1994</td>\n",
       "      <td>39325.0</td>\n",
       "    </tr>\n",
       "    <tr>\n",
       "      <th>4</th>\n",
       "      <td>1100015</td>\n",
       "      <td>1995</td>\n",
       "      <td>41574.0</td>\n",
       "    </tr>\n",
       "    <tr>\n",
       "      <th>...</th>\n",
       "      <td>...</td>\n",
       "      <td>...</td>\n",
       "      <td>...</td>\n",
       "    </tr>\n",
       "    <tr>\n",
       "      <th>163243</th>\n",
       "      <td>5300108</td>\n",
       "      <td>2016</td>\n",
       "      <td>2977216.0</td>\n",
       "    </tr>\n",
       "    <tr>\n",
       "      <th>163244</th>\n",
       "      <td>5300108</td>\n",
       "      <td>2017</td>\n",
       "      <td>3039444.0</td>\n",
       "    </tr>\n",
       "    <tr>\n",
       "      <th>163245</th>\n",
       "      <td>5300108</td>\n",
       "      <td>2018</td>\n",
       "      <td>2974703.0</td>\n",
       "    </tr>\n",
       "    <tr>\n",
       "      <th>163246</th>\n",
       "      <td>5300108</td>\n",
       "      <td>2019</td>\n",
       "      <td>3015268.0</td>\n",
       "    </tr>\n",
       "    <tr>\n",
       "      <th>163247</th>\n",
       "      <td>5300108</td>\n",
       "      <td>2020</td>\n",
       "      <td>3055149.0</td>\n",
       "    </tr>\n",
       "  </tbody>\n",
       "</table>\n",
       "<p>163248 rows × 3 columns</p>\n",
       "</div>"
      ],
      "text/plain": [
       "        id_municipio   ano  populacao\n",
       "0            1100015  1991    31981.0\n",
       "1            1100015  1992    34768.0\n",
       "2            1100015  1993    37036.0\n",
       "3            1100015  1994    39325.0\n",
       "4            1100015  1995    41574.0\n",
       "...              ...   ...        ...\n",
       "163243       5300108  2016  2977216.0\n",
       "163244       5300108  2017  3039444.0\n",
       "163245       5300108  2018  2974703.0\n",
       "163246       5300108  2019  3015268.0\n",
       "163247       5300108  2020  3055149.0\n",
       "\n",
       "[163248 rows x 3 columns]"
      ]
     },
     "execution_count": 8,
     "metadata": {},
     "output_type": "execute_result"
    }
   ],
   "source": [
    "bd.read_table(dataset_id='br_ibge_populacao', \n",
    "            table_id='municipios',\n",
    "            billing_project_id='steam-snowfall-306819'\n",
    "             )"
   ]
  },
  {
   "cell_type": "code",
   "execution_count": null,
   "id": "canadian-emerald",
   "metadata": {},
   "outputs": [],
   "source": []
  }
 ],
 "metadata": {
  "kernelspec": {
   "display_name": "Python 3",
   "language": "python",
   "name": "python3"
  },
  "language_info": {
   "codemirror_mode": {
    "name": "ipython",
    "version": 3
   },
   "file_extension": ".py",
   "mimetype": "text/x-python",
   "name": "python",
   "nbconvert_exporter": "python",
   "pygments_lexer": "ipython3",
   "version": "3.8.8"
  }
 },
 "nbformat": 4,
 "nbformat_minor": 5
}
