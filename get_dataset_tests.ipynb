{
 "metadata": {
  "language_info": {
   "codemirror_mode": {
    "name": "ipython",
    "version": 3
   },
   "file_extension": ".py",
   "mimetype": "text/x-python",
   "name": "python",
   "nbconvert_exporter": "python",
   "pygments_lexer": "ipython3",
   "version": "3.9.1-final"
  },
  "orig_nbformat": 2,
  "kernelspec": {
   "name": "python3",
   "display_name": "Python 3.9.1 64-bit ('venv')",
   "metadata": {
    "interpreter": {
     "hash": "8afecb210c69257b413a131131dad65a92cf015fee3d09c23063ce57ca165dea"
    }
   }
  }
 },
 "nbformat": 4,
 "nbformat_minor": 2,
 "cells": [
  {
   "cell_type": "code",
   "execution_count": 2,
   "metadata": {},
   "outputs": [],
   "source": [
    "import json\n",
    "\n",
    "import pandas as pd\n",
    "import seaborn as sns\n",
    "import matplotlib.pyplot as plt\n",
    "import basedosdados as bd\n",
    "from ipywidgets import interact\n",
    "\n",
    "from Utils.data_utils import *"
   ]
  },
  {
   "cell_type": "code",
   "execution_count": 5,
   "metadata": {},
   "outputs": [
    {
     "output_type": "stream",
     "name": "stdout",
     "text": [
      "municipio                               Niterói\nmicrorregiao                     Rio de Janeiro\nmesorregiao     Metropolitana do Rio de Janeiro\nsigla_uf                                     RJ\nuf                               Rio de Janeiro\nregiao                                  Sudeste\nName: 3303302, dtype: object\n"
     ]
    }
   ],
   "source": [
    "MUN_IDS = get_mun_ids()\n",
    "print(MUN_IDS.loc[3303302]) # Niterói"
   ]
  },
  {
   "cell_type": "code",
   "execution_count": 6,
   "metadata": {},
   "outputs": [
    {
     "output_type": "execute_result",
     "data": {
      "text/plain": [
       "   id_municipio   ano  expectativa_vida  fecundidade_total  mortalidade_1  \\\n",
       "0       1100015  1991             62.01               4.08          45.58   \n",
       "\n",
       "   mortalidade_5  razao_dependencia  prob_sobrevivencia_40  \\\n",
       "0          58.05               73.5                  83.81   \n",
       "\n",
       "   prob_sobrevivencia_60  taxa_envelhecimento  ...  pia  pia_10_14  pia_15_17  \\\n",
       "0                  66.87                 1.82  ...  NaN        NaN        NaN   \n",
       "\n",
       "   pia_18_mais  indice_escolaridade  indice_frequencia_escolar   idhm  idhm_e  \\\n",
       "0          NaN                0.117                      0.109  0.329   0.112   \n",
       "\n",
       "   idhm_l  idhm_r  \n",
       "0   0.617   0.516  \n",
       "\n",
       "[1 rows x 230 columns]"
      ],
      "text/html": "<div>\n<style scoped>\n    .dataframe tbody tr th:only-of-type {\n        vertical-align: middle;\n    }\n\n    .dataframe tbody tr th {\n        vertical-align: top;\n    }\n\n    .dataframe thead th {\n        text-align: right;\n    }\n</style>\n<table border=\"1\" class=\"dataframe\">\n  <thead>\n    <tr style=\"text-align: right;\">\n      <th></th>\n      <th>id_municipio</th>\n      <th>ano</th>\n      <th>expectativa_vida</th>\n      <th>fecundidade_total</th>\n      <th>mortalidade_1</th>\n      <th>mortalidade_5</th>\n      <th>razao_dependencia</th>\n      <th>prob_sobrevivencia_40</th>\n      <th>prob_sobrevivencia_60</th>\n      <th>taxa_envelhecimento</th>\n      <th>...</th>\n      <th>pia</th>\n      <th>pia_10_14</th>\n      <th>pia_15_17</th>\n      <th>pia_18_mais</th>\n      <th>indice_escolaridade</th>\n      <th>indice_frequencia_escolar</th>\n      <th>idhm</th>\n      <th>idhm_e</th>\n      <th>idhm_l</th>\n      <th>idhm_r</th>\n    </tr>\n  </thead>\n  <tbody>\n    <tr>\n      <th>0</th>\n      <td>1100015</td>\n      <td>1991</td>\n      <td>62.01</td>\n      <td>4.08</td>\n      <td>45.58</td>\n      <td>58.05</td>\n      <td>73.5</td>\n      <td>83.81</td>\n      <td>66.87</td>\n      <td>1.82</td>\n      <td>...</td>\n      <td>NaN</td>\n      <td>NaN</td>\n      <td>NaN</td>\n      <td>NaN</td>\n      <td>0.117</td>\n      <td>0.109</td>\n      <td>0.329</td>\n      <td>0.112</td>\n      <td>0.617</td>\n      <td>0.516</td>\n    </tr>\n  </tbody>\n</table>\n<p>1 rows × 230 columns</p>\n</div>"
     },
     "metadata": {},
     "execution_count": 6
    }
   ],
   "source": [
    "atlas = get_data(\"mundo_onu_adh.municipios\")\n",
    "atlas.head(1)"
   ]
  },
  {
   "cell_type": "code",
   "execution_count": 5,
   "metadata": {},
   "outputs": [
    {
     "output_type": "execute_result",
     "data": {
      "text/plain": [
       "array([2005, 2007, 2009, 2011, 2013, 2015, 2017, 2019, 2021], dtype=int64)"
      ]
     },
     "metadata": {},
     "execution_count": 5
    }
   ],
   "source": [
    "ideb = get_data(\"br_inep_ideb.municipio\")\n",
    "ideb[\"ano\"].unique()"
   ]
  },
  {
   "cell_type": "code",
   "execution_count": 8,
   "metadata": {},
   "outputs": [
    {
     "output_type": "execute_result",
     "data": {
      "text/plain": [
       "   id_municipio   ano  populacao\n",
       "0       1100015  1991    31981.0"
      ],
      "text/html": "<div>\n<style scoped>\n    .dataframe tbody tr th:only-of-type {\n        vertical-align: middle;\n    }\n\n    .dataframe tbody tr th {\n        vertical-align: top;\n    }\n\n    .dataframe thead th {\n        text-align: right;\n    }\n</style>\n<table border=\"1\" class=\"dataframe\">\n  <thead>\n    <tr style=\"text-align: right;\">\n      <th></th>\n      <th>id_municipio</th>\n      <th>ano</th>\n      <th>populacao</th>\n    </tr>\n  </thead>\n  <tbody>\n    <tr>\n      <th>0</th>\n      <td>1100015</td>\n      <td>1991</td>\n      <td>31981.0</td>\n    </tr>\n  </tbody>\n</table>\n</div>"
     },
     "metadata": {},
     "execution_count": 8
    }
   ],
   "source": [
    "populacao = get_data(\"br_ibge_populacao.municipios\")\n",
    "populacao.head(1)"
   ]
  },
  {
   "cell_type": "code",
   "execution_count": 9,
   "metadata": {},
   "outputs": [
    {
     "output_type": "stream",
     "name": "stdout",
     "text": [
      "descricao    Infarto agudo do miocárdio não especificado\nName: I219, dtype: object\n"
     ]
    }
   ],
   "source": [
    "CAUSAS_ID = get_br_ms_sim_ids()\n",
    "print(CAUSAS_ID.loc[\"I219\"]) # Infarto"
   ]
  },
  {
   "cell_type": "code",
   "execution_count": 10,
   "metadata": {},
   "outputs": [
    {
     "output_type": "execute_result",
     "data": {
      "text/plain": [
       "    ano estado_abrev  id_municipio causa_basica  idade     genero raca_cor  \\\n",
       "0  2009           SC       4216107         I110   71.0  masculino   branca   \n",
       "\n",
       "   numero_obitos  \n",
       "0              1  "
      ],
      "text/html": "<div>\n<style scoped>\n    .dataframe tbody tr th:only-of-type {\n        vertical-align: middle;\n    }\n\n    .dataframe tbody tr th {\n        vertical-align: top;\n    }\n\n    .dataframe thead th {\n        text-align: right;\n    }\n</style>\n<table border=\"1\" class=\"dataframe\">\n  <thead>\n    <tr style=\"text-align: right;\">\n      <th></th>\n      <th>ano</th>\n      <th>estado_abrev</th>\n      <th>id_municipio</th>\n      <th>causa_basica</th>\n      <th>idade</th>\n      <th>genero</th>\n      <th>raca_cor</th>\n      <th>numero_obitos</th>\n    </tr>\n  </thead>\n  <tbody>\n    <tr>\n      <th>0</th>\n      <td>2009</td>\n      <td>SC</td>\n      <td>4216107</td>\n      <td>I110</td>\n      <td>71.0</td>\n      <td>masculino</td>\n      <td>branca</td>\n      <td>1</td>\n    </tr>\n  </tbody>\n</table>\n</div>"
     },
     "metadata": {},
     "execution_count": 10
    }
   ],
   "source": [
    "obitos_mun = get_data(\"br_ms_sim.municipio_causa_idade_genero_raca\")\n",
    "obitos_mun.head(1)"
   ]
  },
  {
   "cell_type": "code",
   "execution_count": 11,
   "metadata": {},
   "outputs": [
    {
     "output_type": "execute_result",
     "data": {
      "text/plain": [
       "   id_municipio sigla_uf  populacao_urbana_2013  populacao_urbana_2035  \\\n",
       "0       1100015       RO                  14735                  15507   \n",
       "\n",
       "            prestador_servico_esgoto sigla_prestador  indice_sem_atend  \\\n",
       "0  Serviço Autônomo de Água e Esgoto            SAAE              96.7   \n",
       "\n",
       "   indice_atend_solucao_ind  indice_atend_col_sem_trat  indice_atend_col_trat  \\\n",
       "0                       1.9                        1.4                    0.0   \n",
       "\n",
       "   ...  carga_afluente_solucao_ind_2035  carga_efluente_solucao_ind_2035  \\\n",
       "0  ...                             83.7                             33.5   \n",
       "\n",
       "   populacao_atendida_2035  investimento_col  investimento_trat  \\\n",
       "0                    13956       16866794.48         4298529.94   \n",
       "\n",
       "   investimento_col_trat  necessidade_remocao_dbo  \\\n",
       "0            21165324.42             Acima de 80%   \n",
       "\n",
       "                tipologia_solucao  atencao_fosforo  atencao_nitrogenio  \n",
       "0  Tratamento secundário avançado              Não                 Não  \n",
       "\n",
       "[1 rows x 40 columns]"
      ],
      "text/html": "<div>\n<style scoped>\n    .dataframe tbody tr th:only-of-type {\n        vertical-align: middle;\n    }\n\n    .dataframe tbody tr th {\n        vertical-align: top;\n    }\n\n    .dataframe thead th {\n        text-align: right;\n    }\n</style>\n<table border=\"1\" class=\"dataframe\">\n  <thead>\n    <tr style=\"text-align: right;\">\n      <th></th>\n      <th>id_municipio</th>\n      <th>sigla_uf</th>\n      <th>populacao_urbana_2013</th>\n      <th>populacao_urbana_2035</th>\n      <th>prestador_servico_esgoto</th>\n      <th>sigla_prestador</th>\n      <th>indice_sem_atend</th>\n      <th>indice_atend_solucao_ind</th>\n      <th>indice_atend_col_sem_trat</th>\n      <th>indice_atend_col_trat</th>\n      <th>...</th>\n      <th>carga_afluente_solucao_ind_2035</th>\n      <th>carga_efluente_solucao_ind_2035</th>\n      <th>populacao_atendida_2035</th>\n      <th>investimento_col</th>\n      <th>investimento_trat</th>\n      <th>investimento_col_trat</th>\n      <th>necessidade_remocao_dbo</th>\n      <th>tipologia_solucao</th>\n      <th>atencao_fosforo</th>\n      <th>atencao_nitrogenio</th>\n    </tr>\n  </thead>\n  <tbody>\n    <tr>\n      <th>0</th>\n      <td>1100015</td>\n      <td>RO</td>\n      <td>14735</td>\n      <td>15507</td>\n      <td>Serviço Autônomo de Água e Esgoto</td>\n      <td>SAAE</td>\n      <td>96.7</td>\n      <td>1.9</td>\n      <td>1.4</td>\n      <td>0.0</td>\n      <td>...</td>\n      <td>83.7</td>\n      <td>33.5</td>\n      <td>13956</td>\n      <td>16866794.48</td>\n      <td>4298529.94</td>\n      <td>21165324.42</td>\n      <td>Acima de 80%</td>\n      <td>Tratamento secundário avançado</td>\n      <td>Não</td>\n      <td>Não</td>\n    </tr>\n  </tbody>\n</table>\n<p>1 rows × 40 columns</p>\n</div>"
     },
     "metadata": {},
     "execution_count": 11
    }
   ],
   "source": [
    "esgoto = get_data(\"br_ana_atlas_esgotos.municipios\")\n",
    "esgoto.head(1)"
   ]
  },
  {
   "cell_type": "code",
   "execution_count": 12,
   "metadata": {},
   "outputs": [],
   "source": [
    "# auxilio = get_data(\"br_mc_auxilio_emergencial.microdados.corte\", query=\"SELECT sigla_uf, id_municipio FROM `basedosdados.br_mc_auxilio_emergencial.microdados`\")\n",
    "# auxilio.head(1)"
   ]
  },
  {
   "cell_type": "code",
   "execution_count": 13,
   "metadata": {},
   "outputs": [
    {
     "output_type": "execute_result",
     "data": {
      "text/plain": [
       "               ano  expectativa_vida  fecundidade_total  mortalidade_1  \\\n",
       "id_municipio                                                             \n",
       "3303302       1991             68.03               1.76          25.81   \n",
       "3303302       2000             72.26               1.61          14.04   \n",
       "3303302       2010             76.23               1.41          12.91   \n",
       "\n",
       "              mortalidade_5  razao_dependencia  prob_sobrevivencia_40  \\\n",
       "id_municipio                                                            \n",
       "3303302               29.55              47.26                  90.70   \n",
       "3303302               15.92              43.73                  91.60   \n",
       "3303302               14.52              40.54                  93.43   \n",
       "\n",
       "              prob_sobrevivencia_60  taxa_envelhecimento  \\\n",
       "id_municipio                                               \n",
       "3303302                       76.38                 7.58   \n",
       "3303302                       82.09                 9.83   \n",
       "3303302                       84.14                12.17   \n",
       "\n",
       "              expectativa_anos_estudo  ...       pia  pia_10_14  pia_15_17  \\\n",
       "id_municipio                           ...                                   \n",
       "3303302                          9.55  ...       NaN        NaN        NaN   \n",
       "3303302                          9.86  ...  397571.0    32722.0    22165.0   \n",
       "3303302                          9.68  ...  437702.0    31430.0    19447.0   \n",
       "\n",
       "              pia_18_mais  indice_escolaridade  indice_frequencia_escolar  \\\n",
       "id_municipio                                                                \n",
       "3303302               NaN                0.639                      0.520   \n",
       "3303302          342684.0                0.701                      0.676   \n",
       "3303302          386825.0                0.794                      0.762   \n",
       "\n",
       "               idhm  idhm_e  idhm_l  idhm_r  \n",
       "id_municipio                                 \n",
       "3303302       0.681   0.557   0.717   0.790  \n",
       "3303302       0.771   0.684   0.788   0.851  \n",
       "3303302       0.837   0.773   0.854   0.887  \n",
       "\n",
       "[3 rows x 229 columns]"
      ],
      "text/html": "<div>\n<style scoped>\n    .dataframe tbody tr th:only-of-type {\n        vertical-align: middle;\n    }\n\n    .dataframe tbody tr th {\n        vertical-align: top;\n    }\n\n    .dataframe thead th {\n        text-align: right;\n    }\n</style>\n<table border=\"1\" class=\"dataframe\">\n  <thead>\n    <tr style=\"text-align: right;\">\n      <th></th>\n      <th>ano</th>\n      <th>expectativa_vida</th>\n      <th>fecundidade_total</th>\n      <th>mortalidade_1</th>\n      <th>mortalidade_5</th>\n      <th>razao_dependencia</th>\n      <th>prob_sobrevivencia_40</th>\n      <th>prob_sobrevivencia_60</th>\n      <th>taxa_envelhecimento</th>\n      <th>expectativa_anos_estudo</th>\n      <th>...</th>\n      <th>pia</th>\n      <th>pia_10_14</th>\n      <th>pia_15_17</th>\n      <th>pia_18_mais</th>\n      <th>indice_escolaridade</th>\n      <th>indice_frequencia_escolar</th>\n      <th>idhm</th>\n      <th>idhm_e</th>\n      <th>idhm_l</th>\n      <th>idhm_r</th>\n    </tr>\n    <tr>\n      <th>id_municipio</th>\n      <th></th>\n      <th></th>\n      <th></th>\n      <th></th>\n      <th></th>\n      <th></th>\n      <th></th>\n      <th></th>\n      <th></th>\n      <th></th>\n      <th></th>\n      <th></th>\n      <th></th>\n      <th></th>\n      <th></th>\n      <th></th>\n      <th></th>\n      <th></th>\n      <th></th>\n      <th></th>\n      <th></th>\n    </tr>\n  </thead>\n  <tbody>\n    <tr>\n      <th>3303302</th>\n      <td>1991</td>\n      <td>68.03</td>\n      <td>1.76</td>\n      <td>25.81</td>\n      <td>29.55</td>\n      <td>47.26</td>\n      <td>90.70</td>\n      <td>76.38</td>\n      <td>7.58</td>\n      <td>9.55</td>\n      <td>...</td>\n      <td>NaN</td>\n      <td>NaN</td>\n      <td>NaN</td>\n      <td>NaN</td>\n      <td>0.639</td>\n      <td>0.520</td>\n      <td>0.681</td>\n      <td>0.557</td>\n      <td>0.717</td>\n      <td>0.790</td>\n    </tr>\n    <tr>\n      <th>3303302</th>\n      <td>2000</td>\n      <td>72.26</td>\n      <td>1.61</td>\n      <td>14.04</td>\n      <td>15.92</td>\n      <td>43.73</td>\n      <td>91.60</td>\n      <td>82.09</td>\n      <td>9.83</td>\n      <td>9.86</td>\n      <td>...</td>\n      <td>397571.0</td>\n      <td>32722.0</td>\n      <td>22165.0</td>\n      <td>342684.0</td>\n      <td>0.701</td>\n      <td>0.676</td>\n      <td>0.771</td>\n      <td>0.684</td>\n      <td>0.788</td>\n      <td>0.851</td>\n    </tr>\n    <tr>\n      <th>3303302</th>\n      <td>2010</td>\n      <td>76.23</td>\n      <td>1.41</td>\n      <td>12.91</td>\n      <td>14.52</td>\n      <td>40.54</td>\n      <td>93.43</td>\n      <td>84.14</td>\n      <td>12.17</td>\n      <td>9.68</td>\n      <td>...</td>\n      <td>437702.0</td>\n      <td>31430.0</td>\n      <td>19447.0</td>\n      <td>386825.0</td>\n      <td>0.794</td>\n      <td>0.762</td>\n      <td>0.837</td>\n      <td>0.773</td>\n      <td>0.854</td>\n      <td>0.887</td>\n    </tr>\n  </tbody>\n</table>\n<p>3 rows × 229 columns</p>\n</div>"
     },
     "metadata": {},
     "execution_count": 13
    }
   ],
   "source": [
    "atlas.set_index(\"id_municipio\").loc[3303302]"
   ]
  }
 ]
}